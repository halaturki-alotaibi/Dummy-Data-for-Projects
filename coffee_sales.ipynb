{
  "nbformat": 4,
  "nbformat_minor": 0,
  "metadata": {
    "colab": {
      "provenance": [],
      "authorship_tag": "ABX9TyN1g1cQh/y6ELMATCN1s8qq"
    },
    "kernelspec": {
      "name": "python3",
      "display_name": "Python 3"
    },
    "language_info": {
      "name": "python"
    }
  },
  "cells": [
    {
      "cell_type": "code",
      "execution_count": 1,
      "metadata": {
        "id": "64H7NazSJk-Z"
      },
      "outputs": [],
      "source": [
        "import pandas as pd\n",
        "import numpy as np"
      ]
    },
    {
      "cell_type": "code",
      "source": [
        "# إنشاء بيانات وهمية لمشروع متجر الكتروني للقهوة في السعودية\n",
        "import numpy as np\n",
        "import pandas as pd\n",
        "\n",
        "# إنشاء نطاق زمني لمدة 730 يومًا\n",
        "dates = pd.date_range(start=\"2023-01-01\", periods=730, freq=\"D\")\n",
        "\n",
        "# إنشاء قائمة العملاء\n",
        "customers = [f\"{i}\" for i in range(1, 101)]\n",
        "customers_city =[\"Riyadh\",\"Jeddah\",\"Mecca\",\"Medina\",\"Dammam\",\"Khobar\",\"Abha\",\"Tabuk\",\"Hail\",\"Buraidah\"]\n",
        "# قائمة المنتجات والفئات والأسعار\n",
        "categories = [\"coffee beans\"]\n",
        "products = [\"Brazilian\", \"Ethiopian\", \"Colombian\", \"Costa Rica\", \"Guatemala\"]\n",
        "price_dict = {\"Brazilian\": 30, \"Ethiopian\": 45, \"Colombian\": 40, \"Costa Rica\": 35, \"Guatemala\": 35}\n",
        "\n",
        "# توليد البيانات العشوائية\n",
        "sales_data = {\n",
        "    \"Date\": dates,\n",
        "    \"Customer_ID\": np.random.choice(customers, 730),  # اختيار عشوائي من قائمة العملاء\n",
        "    \"City\": np.random.choice(customers_city, 730),  # اختيار عشوائي من قائمة المدن\n",
        "    \"Category\": np.random.choice(categories, 730),  # الفئة ثابتة هنا\n",
        "    \"Product\": np.random.choice(products, 730),  # اختيار عشوائي للمنتجات\n",
        "}\n",
        "\n",
        "# إنشاء DataFrame مبدئي\n",
        "df_coffee_sales = pd.DataFrame(sales_data)\n",
        "\n",
        "# تعيين الأسعار بناءً على المنتج\n",
        "df_coffee_sales[\"Unit Price\"] = df_coffee_sales[\"Product\"].map(price_dict)\n",
        "\n",
        "# إنشاء الكميات العشوائية\n",
        "df_coffee_sales[\"Quantity\"] = np.random.randint(1, 50, 730)\n",
        "\n",
        "# حساب مبلغ المبيعات\n",
        "df_coffee_sales[\"Sales Amount\"] = df_coffee_sales[\"Quantity\"] * df_coffee_sales[\"Unit Price\"]\n",
        "\n",
        "# توليد بيانات الخصومات\n",
        "df_coffee_sales[\"Used_Discount\"] = np.random.choice([True, False], 730)\n",
        "df_coffee_sales[\"Discount_Amount\"] = np.where(df_coffee_sales[\"Used_Discount\"], np.random.uniform(10, 500, 730), 0)\n",
        "\n",
        "# عرض أول 5 صفوف للتحقق\n",
        "print(df_coffee_sales.head())\n"
      ],
      "metadata": {
        "colab": {
          "base_uri": "https://localhost:8080/"
        },
        "id": "ytcf-faFJnWY",
        "outputId": "88ada6d6-eb2a-4f49-ebae-2bc17ea7fa02"
      },
      "execution_count": 10,
      "outputs": [
        {
          "output_type": "stream",
          "name": "stdout",
          "text": [
            "        Date Customer_ID    City      Category     Product  Unit Price  \\\n",
            "0 2023-01-01          32  Riyadh  coffee beans   Colombian          40   \n",
            "1 2023-01-02          49    Abha  coffee beans  Costa Rica          35   \n",
            "2 2023-01-03          75   Tabuk  coffee beans  Costa Rica          35   \n",
            "3 2023-01-04          80    Abha  coffee beans   Ethiopian          45   \n",
            "4 2023-01-05          78    Hail  coffee beans   Colombian          40   \n",
            "\n",
            "   Quantity  Sales Amount  Used_Discount  Discount_Amount  \n",
            "0        14           560          False         0.000000  \n",
            "1        17           595          False         0.000000  \n",
            "2        19           665          False         0.000000  \n",
            "3         1            45          False         0.000000  \n",
            "4        46          1840           True       419.913612  \n"
          ]
        }
      ]
    },
    {
      "cell_type": "code",
      "source": [
        "# حفظ البيانات\n",
        "df_coffee_sales.to_csv(r\"/DatasetForCoffeeSales.csv\", index=False)\n"
      ],
      "metadata": {
        "id": "PmOQ8r5aXGQC"
      },
      "execution_count": 12,
      "outputs": []
    }
  ]
}