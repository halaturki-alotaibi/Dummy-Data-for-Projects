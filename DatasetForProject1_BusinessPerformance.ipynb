{
  "nbformat": 4,
  "nbformat_minor": 0,
  "metadata": {
    "colab": {
      "provenance": [],
      "authorship_tag": "ABX9TyOzE1q1QftQWkkWjhhDhF1c"
    },
    "kernelspec": {
      "name": "python3",
      "display_name": "Python 3"
    },
    "language_info": {
      "name": "python"
    }
  },
  "cells": [
    {
      "cell_type": "code",
      "execution_count": 1,
      "metadata": {
        "id": "YlY9T97v5kF2"
      },
      "outputs": [],
      "source": [
        "import pandas as pd\n",
        "import numpy as np"
      ]
    },
    {
      "cell_type": "code",
      "source": [
        "# إنشاء بيانات وهمية للمشروع الأول (تحليل أداء الأعمال وتوقع الأرباح)\n",
        "dates_project1 = pd.date_range(start=\"2023-01-01\", periods=365, freq=\"D\")\n",
        "products_project1 = [\"Product_A\", \"Product_B\", \"Product_C\", \"Product_D\", \"Product_E\"]\n",
        "sales_data_project1 = {\n",
        "    \"Date\": dates_project1,\n",
        "    \"Product\": np.random.choice(products_project1, 365),\n",
        "    \"Sales_Amount\": np.random.uniform(1000, 5000, 365),\n",
        "    \"Fixed_Costs\": np.random.uniform(200, 1000, 365),\n",
        "    \"Variable_Costs\": np.random.uniform(100, 500, 365),\n",
        "    \"Marketing_Expenses\": np.random.uniform(50, 500, 365),\n",
        "    \"Number_of_Customers\": np.random.randint(50, 500, 365),\n",
        "}\n",
        "\n",
        "df_project1_business = pd.DataFrame(sales_data_project1)\n",
        "\n"
      ],
      "metadata": {
        "id": "BtW0VjcX57LB"
      },
      "execution_count": 2,
      "outputs": []
    },
    {
      "cell_type": "code",
      "source": [
        "# حساب الأرباح اليومية (الربح = المبيعات - التكاليف الثابتة - التكاليف المتغيرة - التسويق)\n",
        "df_project1_business[\"Profit\"] = df_project1_business[\"Sales_Amount\"] - df_project1_business[\"Fixed_Costs\"] - df_project1_business[\"Variable_Costs\"] - df_project1_business[\"Marketing_Expenses\"]\n"
      ],
      "metadata": {
        "id": "t0JkFmab6CZb"
      },
      "execution_count": 3,
      "outputs": []
    },
    {
      "cell_type": "code",
      "source": [
        "# حفظ البيانات\n",
        "df_project1_business.to_csv(r\"/DatasetForProject1_BusinessPerformance.csv\", index=False)\n"
      ],
      "metadata": {
        "id": "80lz58BN6KD0"
      },
      "execution_count": 5,
      "outputs": []
    },
    {
      "cell_type": "code",
      "source": [
        "# إرجاع الرابط لتحميل الملف\n",
        "\"/DatasetForProject1_BusinessPerformance.csv\"\n"
      ],
      "metadata": {
        "colab": {
          "base_uri": "https://localhost:8080/",
          "height": 35
        },
        "id": "VplUB2EH6dY4",
        "outputId": "22f1e6bc-d72e-4fbf-ee2d-76c5d4953656"
      },
      "execution_count": 6,
      "outputs": [
        {
          "output_type": "execute_result",
          "data": {
            "text/plain": [
              "'/DatasetForProject1_BusinessPerformance.csv'"
            ],
            "application/vnd.google.colaboratory.intrinsic+json": {
              "type": "string"
            }
          },
          "metadata": {},
          "execution_count": 6
        }
      ]
    }
  ]
}