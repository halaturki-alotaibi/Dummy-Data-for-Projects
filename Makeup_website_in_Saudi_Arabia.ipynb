{
  "nbformat": 4,
  "nbformat_minor": 0,
  "metadata": {
    "colab": {
      "provenance": []
    },
    "kernelspec": {
      "name": "python3",
      "display_name": "Python 3"
    },
    "language_info": {
      "name": "python"
    }
  },
  "cells": [
    {
      "cell_type": "code",
      "execution_count": 5,
      "metadata": {
        "id": "Nm2MPwnEBt_9"
      },
      "outputs": [],
      "source": [
        "import numpy as np\n",
        "import pandas as pd\n",
        "import uuid\n",
        "import random"
      ]
    },
    {
      "cell_type": "code",
      "source": [
        "# إنشاء بيانات وهمية لمشروع متجر الكتروني للمكياج والعطور ومنتجات العناية  في السعودية\n",
        "\n",
        "# إنشاء نطاق زمني لمدة 730 يومًا\n",
        "dates = pd.date_range(start=\"2021-01-01\", periods=1095, freq=\"D\")\n",
        "\n",
        "# إنشاء قائمة العملاءو المدن\n",
        "customer_names = [\"Hala\",\"Hadeel\",\"Reema\",\"Sara\",\"Maha\",\"Kholod\",\"Asma\",\"Shahad\",\"Haila\",\"Noura\",\"Mashael\",\"Hessah\",\"Haifa\",\"Sahar\",\"Johara\",\"Rasha\"] # Changed variable name to customer_names\n",
        "cities =[\"Riyadh\",\"Jeddah\",\"Mecca\",\"Medina\",\"Dammam\",\"Khobar\",\"Abha\",\"Tabuk\",\"Hail\",\"Buraidah\"] # Changed variable name to cities\n",
        "\n",
        "# قائمة المنتجات والفئات والأسعار\n",
        "# القاموس: كل فئة مرتبطة بمنتجاتها\n",
        "Categories = {\n",
        "    \"Makeup\": [\"Foundation\",\"Powder\",\"Face Primer\",\"Makeup Spray\",\"BB & CC Cream\",\"Makeup Removers\",\"Concealers and Correctors\",\"Lip Tint\",\"Lipstick\",\"Lip Gloss\",\"Lip Liner\",\"Mascara\",\"Eyeliner\",\"Eyeshadow\",\"Eyebrow gel\"],\n",
        "    \"Perfume\": [\"Oud perfume\",\"Unisex Perfumes\",\"Musk Perfumes\",\"Hair Mists\",\"Women Perfumes\",\"Niche Perfumes\",\"Children Perfumes\",\"Men Perfumes\"]\n",
        "}\n",
        "\n",
        "# نطاق الأسعار لكل فئة (بالريال )\n",
        "price_ranges = {\n",
        "    \"Makeup\": (50, 500),\n",
        "    \"Perfume\": (200, 3000)\n",
        "}\n",
        "\n",
        "payment_methods = [\"Cash\",\"Credit Card\",\"Mada\",\"ApplePay\",\"STCPay\"] # Changed variable name to payment_methods\n",
        "\n",
        "\n",
        "# توليد بيانات وهمية\n",
        "num_rows = 10000\n",
        "data = []\n",
        "\n",
        "for i in range(1, num_rows + 1):\n",
        "    Order_ID = f\"{i:04d}\"\n",
        "    Order_Date = np.random.choice(dates)\n",
        "    Customer_Name = np.random.choice(customer_names) # Use customer_names instead of Customer_Name\n",
        "    City = np.random.choice(cities) # Use cities instead of City\n",
        "    Category = random.choice(list(Categories.keys())) # random is now defined and accessible\n",
        "    Product = random.choice(Categories[Category])\n",
        "\n",
        "    Quantity = random.randint(1, 10)\n",
        "     # تحديد السعر ضمن النطاق المخصص للتصنيف\n",
        "    min_price, max_price = price_ranges[Category] # Changed category to Category\n",
        "    Price = round(random.uniform(min_price, max_price), 2)\n",
        "    payment_method = np.random.choice(payment_methods) # Use payment_methods and assign to payment_method\n",
        "\n",
        "\n",
        "    data.append((Order_ID,Order_Date,Customer_Name,City,Category,Product,Quantity,Price,payment_method)) # Use payment_method\n",
        "\n",
        "# إنشاء DataFrame\n",
        "df = pd.DataFrame(data, columns=[\"Order_ID\",\"Order_Date\",\"Customer_Name\",\"City\",\"Category\",\"Product\",\"Quantity\",\"Price\",\"Payment_Method\"])\n",
        "\n",
        "# عرض أول الصفوف\n",
        "print(df.head())"
      ],
      "metadata": {
        "colab": {
          "base_uri": "https://localhost:8080/"
        },
        "id": "W2tnYFeCCCWN",
        "outputId": "302d6c6e-9004-4b08-b41d-b21055e58ce4"
      },
      "execution_count": 9,
      "outputs": [
        {
          "output_type": "stream",
          "name": "stdout",
          "text": [
            "  Order_ID Order_Date Customer_Name    City Category         Product  \\\n",
            "0     0001 2022-06-27        Hessah  Jeddah   Makeup        Lipstick   \n",
            "1     0002 2022-03-21        Shahad    Hail   Makeup       Lip Liner   \n",
            "2     0003 2023-07-05          Hala    Hail  Perfume  Niche Perfumes   \n",
            "3     0004 2021-04-10        Johara  Khobar   Makeup         Mascara   \n",
            "4     0005 2023-10-21          Maha    Hail  Perfume     Oud perfume   \n",
            "\n",
            "   Quantity    Price Payment_Method  \n",
            "0         2   251.45    Credit Card  \n",
            "1         9   450.91       ApplePay  \n",
            "2         9  1772.58           Cash  \n",
            "3         7   287.18       ApplePay  \n",
            "4         4   750.16         STCPay  \n"
          ]
        }
      ]
    },
    {
      "cell_type": "code",
      "source": [
        "# حفظ الملف\n",
        "df.to_csv(\"Makeup website in Saudi Arabia.csv\", index=False, encoding='utf-8-sig')"
      ],
      "metadata": {
        "id": "POMyxlU8QTjw"
      },
      "execution_count": 10,
      "outputs": []
    }
  ]
}