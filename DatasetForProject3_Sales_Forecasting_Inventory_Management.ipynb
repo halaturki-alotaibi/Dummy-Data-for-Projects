{
  "nbformat": 4,
  "nbformat_minor": 0,
  "metadata": {
    "colab": {
      "provenance": [],
      "authorship_tag": "ABX9TyNnsl6crBtaH6XxzUtgkPN/"
    },
    "kernelspec": {
      "name": "python3",
      "display_name": "Python 3"
    },
    "language_info": {
      "name": "python"
    }
  },
  "cells": [
    {
      "cell_type": "code",
      "execution_count": 1,
      "metadata": {
        "id": "TL1Zt_RU8LjB"
      },
      "outputs": [],
      "source": [
        "import pandas as pd\n",
        "import numpy as np"
      ]
    },
    {
      "cell_type": "code",
      "source": [
        "# إنشاء بيانات وهمية للمشروع الثالث (التنبؤ بالمبيعات وإدارة المخزون)\n",
        "dates = pd.date_range(start=\"2023-01-01\", periods=365, freq=\"D\")\n",
        "products = [\"Product_A\", \"Product_B\", \"Product_C\", \"Product_D\", \"Product_E\"]\n",
        "sales_data = {\n",
        "    \"Date\": np.tile(dates, len(products)),\n",
        "    \"Product\": np.repeat(products, len(dates)),\n",
        "    \"Sales_Quantity\": np.random.randint(10, 500, len(dates) * len(products)),\n",
        "    \"Stock_Level\": np.random.randint(50, 1000, len(dates) * len(products)),\n",
        "    \"Promotion_Applied\": np.random.choice([True, False], len(dates) * len(products))\n",
        "}\n"
      ],
      "metadata": {
        "id": "bnLsKYo08Rxq"
      },
      "execution_count": 2,
      "outputs": []
    },
    {
      "cell_type": "code",
      "source": [
        "df_project3 = pd.DataFrame(sales_data)"
      ],
      "metadata": {
        "id": "5B9J-Pke8bIq"
      },
      "execution_count": 3,
      "outputs": []
    },
    {
      "cell_type": "code",
      "source": [
        "# حفظ البيانات\n",
        "df_project3.to_csv(r\"/DatasetForProject3.csv\", index=False)\n"
      ],
      "metadata": {
        "id": "8EJTOK0R8gWS"
      },
      "execution_count": 5,
      "outputs": []
    }
  ]
}