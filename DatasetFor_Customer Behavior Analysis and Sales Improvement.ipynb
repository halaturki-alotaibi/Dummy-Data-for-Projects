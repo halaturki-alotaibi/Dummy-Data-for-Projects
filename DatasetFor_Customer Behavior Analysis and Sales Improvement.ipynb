{
  "nbformat": 4,
  "nbformat_minor": 0,
  "metadata": {
    "colab": {
      "provenance": [],
      "authorship_tag": "ABX9TyOK56FNyDXoONwCY47/SM8A"
    },
    "kernelspec": {
      "name": "python3",
      "display_name": "Python 3"
    },
    "language_info": {
      "name": "python"
    }
  },
  "cells": [
    {
      "cell_type": "code",
      "source": [
        "import pandas as pd\n",
        "import numpy as np"
      ],
      "metadata": {
        "id": "Ik9M7yGp4HNv"
      },
      "execution_count": 1,
      "outputs": []
    },
    {
      "cell_type": "code",
      "source": [
        "# إنشاء بيانات وهمية للمشروع الثاني (تحليل سلوك العملاء وتحسين المبيعات)\n",
        "np.random.seed(42)\n",
        "customers = [f\"Customer_{i}\" for i in range(1, 101)]\n",
        "categories = [\"Electronics\", \"Clothing\", \"Groceries\", \"Home & Kitchen\", \"Sports\"]\n",
        "purchase_frequency = np.random.randint(1, 20, 100)\n",
        "avg_spent = np.random.uniform(50, 500, 100)\n",
        "discount_used = np.random.choice([True, False], 100)\n",
        "customer_satisfaction = np.random.randint(1, 6, 100)\n",
        "\n",
        "df_project2 = pd.DataFrame({\n",
        "    \"Customer_ID\": customers,\n",
        "    \"Category\": np.random.choice(categories, 100),\n",
        "    \"Purchase_Frequency\": purchase_frequency,\n",
        "    \"Average_Amount_Spent\": avg_spent,\n",
        "    \"Used_Discount\": discount_used,\n",
        "    \"Customer_Satisfaction\": customer_satisfaction\n",
        "})\n"
      ],
      "metadata": {
        "id": "c12nRwDG4Y9E"
      },
      "execution_count": 2,
      "outputs": []
    },
    {
      "cell_type": "code",
      "source": [
        "# حفظ البيانات\n",
        "df_project2.to_csv(r\"\\DatasetForProject2.csv\", index=False)"
      ],
      "metadata": {
        "id": "amwg2uhD4gmz"
      },
      "execution_count": 8,
      "outputs": []
    }
  ]
}