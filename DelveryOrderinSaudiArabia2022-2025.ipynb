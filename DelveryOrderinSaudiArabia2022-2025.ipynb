{
  "nbformat": 4,
  "nbformat_minor": 0,
  "metadata": {
    "colab": {
      "provenance": []
    },
    "kernelspec": {
      "name": "python3",
      "display_name": "Python 3"
    },
    "language_info": {
      "name": "python"
    }
  },
  "cells": [
    {
      "cell_type": "code",
      "execution_count": 1,
      "metadata": {
        "id": "KAMjxx9pQBG3"
      },
      "outputs": [],
      "source": [
        "import pandas as pd\n",
        "import numpy as np"
      ]
    },
    {
      "cell_type": "code",
      "source": [
        "# إنشاء بيانات وهميةلطلبات تطبيق توصيل\n",
        "# Define the time range for the dummy data\n",
        "start_date = pd.to_datetime('2022-01-01 00:00:00')\n",
        "end_date = pd.to_datetime('2025-1-31 23:59:59')\n",
        "\n",
        "# Number of dummy orders\n",
        "num_orders = 10000\n",
        "\n",
        "# Convert the start and end dates to UNIX timestamps (in seconds)\n",
        "start_timestamp = start_date.value // 10**9\n",
        "end_timestamp = end_date.value // 10**9\n",
        "\n",
        "# Generate random UNIX timestamps within the range\n",
        "random_timestamps = np.random.randint(start_timestamp, end_timestamp, size=num_orders)\n",
        "\n",
        "# Convert the UNIX timestamps back to datetime format\n",
        "order_dates = pd.to_datetime(random_timestamps, unit='s')\n",
        "Order_City = [\"Riyadh\",\"Jeddah\",\"Mecca\",\"Medina\",\"Dammam\",\"Khobar\",\"Abha\",\"Tabuk\",\"Hail\",\"Buraidah\"]\n",
        "Restaurant_Type = [\"Pizzeria\", \"Barbecue\", \"Sushi\", \"Seafood\", \"Bakeries\",\"Vegetarian/Vegan\",\"Fast Food\",\"Coffee\",\"Sweets\",\"Burger\",\"Italian Cuisine\",\"Indian Cuisine\"]\n",
        "\n",
        "Order_data_project = {\n",
        "    \"Order Number\": np.arange(203,203+ num_orders),\n",
        "    \"Order Date and Time\": order_dates,\n",
        "    \"Order_City\" : np.random.choice(Order_City, num_orders),\n",
        "    \"Restaurant Type\" : np.random.choice(Restaurant_Type, num_orders),\n",
        "    \"Total Bill (in Saudi Riyals)\": np.random.uniform(36, 800, num_orders),\n",
        "    \"Delivery Duration (in minutes)\": np.random.uniform(4, 20, num_orders),\n",
        "    \"Customer Rating (from 1 to 5 stars)\": np.random.uniform(1, 5, num_orders)\n",
        "}\n",
        "\n",
        "df_order_business = pd.DataFrame(Order_data_project)\n"
      ],
      "metadata": {
        "id": "IPQgvkr2QChQ"
      },
      "execution_count": 11,
      "outputs": []
    },
    {
      "cell_type": "code",
      "source": [
        "df_order_business.to_csv(r\"/DelveryOrderinSaudiArabia2022-2025.csv\", index=False)"
      ],
      "metadata": {
        "id": "K2OOK3vdZ_Nu"
      },
      "execution_count": 15,
      "outputs": []
    }
  ]
}