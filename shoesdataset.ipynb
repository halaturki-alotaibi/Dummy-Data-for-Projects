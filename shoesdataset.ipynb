{
  "nbformat": 4,
  "nbformat_minor": 0,
  "metadata": {
    "colab": {
      "provenance": []
    },
    "kernelspec": {
      "name": "python3",
      "display_name": "Python 3"
    },
    "language_info": {
      "name": "python"
    }
  },
  "cells": [
    {
      "cell_type": "code",
      "execution_count": null,
      "metadata": {
        "id": "0YJ0hvhn2cgR"
      },
      "outputs": [],
      "source": [
        "import pandas as pd\n",
        "import numpy as np"
      ]
    },
    {
      "cell_type": "code",
      "source": [
        "#إنشاء بيانات وهمية لمحل الأحذية\n",
        "\n",
        "#ملف الفروع والمواقع (branches.csv)\n",
        "\n",
        "# إنشاء branch_id (معرّف الفرع)\n",
        "branch = [f\"{i}\" for i in range(1, 4)]\n",
        "\n",
        "#branch_name (اسم الفرع - مثل \"فرع الرياض\")\n",
        "branch_name =[\"Riyadh branch\",\"Jeddah branch\",\"Khobar branch\"]\n",
        "\n",
        "#city (المدينة - الرياض، جدة، الخبر)\n",
        "city =[\"Riyadh\",\"Jeddah\",\"Khobar\"]\n",
        "\n",
        "#location (العنوان التفصيلي للفرع)\n",
        "location =[\"Exit 9، طريق الامام سعود بن عبدالعزيز بن محمد الفرعي، المغرزات، الرياض 12483\",\"طريق الملك عبدالعزيز،، الشاطئ، جدة 21146\",\"حي, EKJA8267, 2048 شارع فراس بن النضر، العليا، 8267, الخبر 34445\"]\n",
        "\n",
        "#manager_name (اسم مدير الفرع)\n",
        "manager_name =[\"Hala\",\"Hessah\",\"Maha\"]\n",
        "\n",
        "# توليد البيانات\n",
        "branch_data = pd.DataFrame({\n",
        "    'branch_id': branch,\n",
        "    'branch_name': branch_name,\n",
        "    'city': city,\n",
        "    'location': location,\n",
        "    'manager_name': manager_name\n",
        "})\n",
        "\n",
        "# إنشاء DataFrame مبدئي\n",
        "df_branch_data = pd.DataFrame(branch_data)\n",
        "\n",
        "# عرض أول 5 صفوف للتحقق\n",
        "print(df_branch_data.head())\n",
        "\n",
        "# حفظ البيانات\n",
        "df_branch_data.to_csv(r\"/branches.csv\", index=False)\n"
      ],
      "metadata": {
        "colab": {
          "base_uri": "https://localhost:8080/"
        },
        "id": "oubZkHUI2muV",
        "outputId": "9a0a4e85-af6a-46cd-fb6b-760f2ab96c01"
      },
      "execution_count": null,
      "outputs": [
        {
          "output_type": "stream",
          "name": "stdout",
          "text": [
            "  branch_id    branch_name    city  \\\n",
            "0         1  Riyadh branch  Riyadh   \n",
            "1         2  Jeddah branch  Jeddah   \n",
            "2         3  Khobar branch  Khobar   \n",
            "\n",
            "                                            location manager_name  \n",
            "0  Exit 9، طريق الامام سعود بن عبدالعزيز بن محمد ...         Hala  \n",
            "1           طريق الملك عبدالعزيز،، الشاطئ، جدة 21146       Hessah  \n",
            "2  حي, EKJA8267, 2048 شارع فراس بن النضر، العليا،...         Maha  \n"
          ]
        }
      ]
    },
    {
      "cell_type": "code",
      "source": [
        "import random\n",
        "\n",
        "def generate_shoe_id(category, existing_ids):\n",
        "    category_codes = {\n",
        "        \"Heels\": \"HE\",\n",
        "        \"Sandals\": \"SA\",\n",
        "        \"Sneakers\": \"SN\",\n",
        "        \"Ballerina\": \"BA\",\n",
        "        \"Boots\": \"BO\",\n",
        "        \"Formal\": \"FO\",\n",
        "        \"Casual\": \"CA\"\n",
        "    }\n",
        "\n",
        "    prefix = category_codes.get(category, \"XX\")  # Default \"XX\" if category not found\n",
        "    while True:\n",
        "        unique_number = random.randint(100, 999)\n",
        "        shoe_id = f\"{prefix}{unique_number}\"\n",
        "        if shoe_id not in existing_ids:\n",
        "            existing_ids.add(shoe_id)\n",
        "            return shoe_id\n",
        "\n",
        "# تعريف القيم العشوائية الممكنة\n",
        "colors = [\"Black\", \"White\", \"Red\", \"Blue\", \"Green\", \"Gray\", \"Brown\"]\n",
        "sizes = list(range(36, 41))\n",
        "price_dict = {\n",
        "    \"Heels\": 250, \"Sandals\": 150, \"Sneakers\": 180,\n",
        "    \"Ballerina\": 120, \"Boots\": 300, \"Formal\": 230, \"Casual\": 190\n",
        "}\n",
        "\n",
        "# تخزين البيانات في قوائم\n",
        "shoe_ids = []\n",
        "categories = []\n",
        "shoe_colors = []\n",
        "shoe_sizes = []\n",
        "shoe_prices = []\n",
        "\n",
        "existing_ids = set()\n",
        "\n",
        "# إنشاء البيانات لـ 365 منتج\n",
        "for _ in range(365):\n",
        "    category = random.choice(list(price_dict.keys()))  # اختيار فئة عشوائية\n",
        "    shoe_id = generate_shoe_id(category, existing_ids)\n",
        "\n",
        "    shoe_ids.append(shoe_id)\n",
        "    categories.append(category)\n",
        "    shoe_colors.append(random.choice(colors))\n",
        "    shoe_sizes.append(random.choice(sizes))\n",
        "    shoe_prices.append(price_dict[category])  # السعر بناءً على الفئة\n",
        "\n",
        "# إنشاء DataFrame\n",
        "shoes_data = pd.DataFrame({\n",
        "    \"shoe_id\": shoe_ids,\n",
        "    \"category\": categories,\n",
        "    \"color\": shoe_colors,\n",
        "    \"size\": shoe_sizes,\n",
        "    \"price\": shoe_prices\n",
        "})\n",
        "\n",
        "# عرض أول 5 صفوف للتحقق\n",
        "print(shoes_data.head())\n"
      ],
      "metadata": {
        "colab": {
          "base_uri": "https://localhost:8080/"
        },
        "id": "RrJggceJ25Q0",
        "outputId": "6ed0d9dc-f4c1-4d70-dc0d-fa40932136c8"
      },
      "execution_count": null,
      "outputs": [
        {
          "output_type": "stream",
          "name": "stdout",
          "text": [
            "  shoe_id   category  color  size  price\n",
            "0   SN935   Sneakers  Green    40    180\n",
            "1   FO988     Formal   Blue    39    230\n",
            "2   SN483   Sneakers  Black    36    180\n",
            "3   CA591     Casual   Blue    37    190\n",
            "4   BA771  Ballerina  Green    39    120\n"
          ]
        }
      ]
    },
    {
      "cell_type": "code",
      "source": [
        "# تصدير البيانات إلى CSV\n",
        "shoes_data.to_csv(\"shoes.csv\", index=False)"
      ],
      "metadata": {
        "id": "vNAYHdVKFqsw"
      },
      "execution_count": null,
      "outputs": []
    },
    {
      "cell_type": "code",
      "source": [
        "\n",
        "# ... (previous code to generate shoe_ids and other data) ...\n",
        "\n",
        "#ملف المخزون (inventory.csv)\n",
        "\n",
        "#quantity_in_stock (الكمية المتوفرة حاليًا)\n",
        "quantity_in_stock = [random.randint(0,200 ) for _ in range(365*3)] # Generate quantity for each shoe in each branch\n",
        "\n",
        "#reorder_level (حد إعادة الطلب - لتنبيه الفروع عند انخفاض الكمية)\n",
        "reorder_level = [70] * (365*3) # Repeat reorder level for each shoe in each branch\n",
        "\n",
        "#Create branch_ids and shoe_ids list for all combinations\n",
        "branch_ids = []\n",
        "shoe_ids_repeated = []\n",
        "for branch_id in branch:\n",
        "    for shoe_id in shoe_ids:\n",
        "        branch_ids.append(branch_id)\n",
        "        shoe_ids_repeated.append(shoe_id)\n",
        "\n",
        "# إنشاء DataFrame\n",
        "inventory_data = pd.DataFrame({\n",
        "    'branch_id': branch_ids,\n",
        "    \"shoe_id\": shoe_ids_repeated,\n",
        "    \"quantity_in_stock\": quantity_in_stock,\n",
        "    \"reorder_level\": reorder_level\n",
        "})\n",
        "\n",
        "# عرض أول 5 صفوف للتحقق\n",
        "print(inventory_data.head())\n",
        "\n",
        "# حفظ البيانات\n",
        "inventory_data.to_csv(r\"/inventory.csv\", index=False)"
      ],
      "metadata": {
        "colab": {
          "base_uri": "https://localhost:8080/"
        },
        "id": "MnRyryq4z78L",
        "outputId": "90690275-fb1e-42e7-ac27-371581975dd7"
      },
      "execution_count": null,
      "outputs": [
        {
          "output_type": "stream",
          "name": "stdout",
          "text": [
            "  branch_id shoe_id  quantity_in_stock  reorder_level\n",
            "0         1   SN935                180             70\n",
            "1         1   FO988                153             70\n",
            "2         1   SN483                 99             70\n",
            "3         1   CA591                167             70\n",
            "4         1   BA771                 71             70\n"
          ]
        }
      ]
    },
    {
      "cell_type": "code",
      "source": [
        "# حفظ البيانات\n",
        "inventory_data.to_csv(r\"/inventory.csv\", index=False)\n"
      ],
      "metadata": {
        "id": "cDfOgPAZ3yxp"
      },
      "execution_count": null,
      "outputs": []
    },
    {
      "cell_type": "code",
      "source": [
        "# ملف المبيعات (sales.csv)\n",
        "#يسجل كل عملية بيع تمت خلال العام 2024 لكل الفروع.\n",
        "\n",
        "import random\n",
        "from datetime import datetime, timedelta\n",
        "\n",
        "#sale_id (رقم الفاتورة - فريد لكل عملية بيع)\n",
        "# توليد رقم فاتورة عشوائي مكون من 6 أرقام\n",
        "\n",
        "\n",
        "#date (تاريخ البيع - بصيغة YYYY-MM-DD)\n",
        "# إعداد المعلمات\n",
        "start_date = datetime(2024, 1, 1)  # بداية الفترة\n",
        "end_date = datetime(2024, 12, 31)  # نهاية الفترة\n",
        "num_sales = 10000  # عدد المبيعات العشوائية\n",
        "\n",
        "#Preparing data for sales DataFrame\n",
        "sales_data_list = []\n",
        "for _ in range(num_sales):\n",
        "    # توليد رقم فاتورة عشوائي فريد لكل عملية بيع\n",
        "    sale_id = random.randint(100000, 999999)\n",
        "\n",
        "    # اختيار فرع عشوائي\n",
        "    branch_id = random.choice(branch)\n",
        "\n",
        "    # اختيار حذاء عشوائي\n",
        "    shoe_id = random.choice(shoe_ids)\n",
        "\n",
        "    # توليد تاريخ عشوائي داخل السنة\n",
        "    sale_date = start_date + timedelta(days=np.random.randint(0, (end_date - start_date).days + 1))\n",
        "\n",
        "    # توليد الكمية المباعة بشكل عشوائي (بين 1 و 5)\n",
        "    quantity_sold = np.random.randint(1, 5)\n",
        "\n",
        "    #total_price (إجمالي السعر)\n",
        "    total_price = quantity_sold * price_dict[shoes_data[shoes_data['shoe_id'] == shoe_id]['category'].values[0]]\n",
        "\n",
        "    # إضافة البيانات إلى القائمة\n",
        "    sales_data_list.append([sale_id, branch_id, shoe_id, sale_date, quantity_sold,total_price])\n",
        "\n",
        "# إنشاء DataFrame من القائمة\n",
        "df_sales = pd.DataFrame(sales_data_list, columns=[\"sale_id\", \"branch_id\", \"shoe_id\", \"sale_date\", \"َquantity_sold\",\"total_price\"])\n",
        "\n",
        "# عرض أول 10 صفوف\n",
        "print(df_sales.head(10))\n"
      ],
      "metadata": {
        "colab": {
          "base_uri": "https://localhost:8080/"
        },
        "id": "NvcK81y64lJ5",
        "outputId": "42d3bb8b-0eae-4652-c436-32e352f7265a"
      },
      "execution_count": 25,
      "outputs": [
        {
          "output_type": "stream",
          "name": "stdout",
          "text": [
            "   sale_id branch_id shoe_id  sale_date  َquantity_sold  total_price\n",
            "0   965600         1   SA819 2024-01-29               3          450\n",
            "1   812647         3   FO622 2024-11-10               2          460\n",
            "2   919003         3   SA627 2024-08-05               3          450\n",
            "3   873105         2   BO381 2024-10-05               1          300\n",
            "4   701505         2   SN401 2024-02-04               3          540\n",
            "5   766754         2   HE320 2024-03-15               1          250\n",
            "6   982264         2   HE178 2024-08-29               2          500\n",
            "7   285665         2   HE888 2024-07-28               2          500\n",
            "8   178486         3   BA434 2024-08-08               4          480\n",
            "9   714934         1   SN964 2024-01-18               4          720\n"
          ]
        }
      ]
    },
    {
      "cell_type": "code",
      "source": [
        "# حفظ البيانات\n",
        "df_sales.to_csv(r\"/sales.csv\", index=False)"
      ],
      "metadata": {
        "id": "zPqBrKxO8Snc"
      },
      "execution_count": 26,
      "outputs": []
    },
    {
      "cell_type": "code",
      "source": [
        "# ملف أهداف المبيعات (sales_targets.csv)\n",
        "\n",
        "#branch_id (معرّف الفرع)\n",
        "branch_id = (branch)\n",
        "\n",
        "#month (الشهر - يناير، فبراير ... ديسمبر)\n",
        "months = [\"January\", \"February\", \"March\", \"April\", \"May\", \"June\",\n",
        "          \"July\", \"August\", \"September\", \"October\", \"November\", \"December\"]\n",
        "\n",
        "# إنشاء قائمة لتخزين البيانات\n",
        "sales_targets = []\n",
        "\n",
        "# توليد الأهداف الشهرية لكل فرع\n",
        "for branch_id in branch:\n",
        "    for month in months:\n",
        "        sales_target = np.random.randint(50000, 150000)  # هدف الإيرادات (بين 50 ألف و 150 ألف)\n",
        "        units_target = np.random.randint(500, 2000)  # هدف عدد الوحدات المباعة (بين 500 و 2000)\n",
        "\n",
        "        sales_targets.append([branch_id, month, sales_target, units_target])\n",
        "\n",
        "# إنشاء DataFrame\n",
        "df_sales_targets = pd.DataFrame(sales_targets, columns=[\"branch_id\", \"month\", \"sales_target\", \"units_target\"])\n",
        "\n",
        "# عرض أول 10 صفوف\n",
        "print(df_sales_targets.head(40))"
      ],
      "metadata": {
        "colab": {
          "base_uri": "https://localhost:8080/"
        },
        "id": "MB2oCQMM9NAX",
        "outputId": "b3fb8442-fe45-417a-b5b2-02ea6d50b34a"
      },
      "execution_count": null,
      "outputs": [
        {
          "output_type": "stream",
          "name": "stdout",
          "text": [
            "   branch_id      month  sales_target  units_target\n",
            "0          1    January         87989           878\n",
            "1          1   February        114766           677\n",
            "2          1      March        129994          1903\n",
            "3          1      April         98316          1343\n",
            "4          1        May        148833          1407\n",
            "5          1       June         55264          1442\n",
            "6          1       July        100365          1574\n",
            "7          1     August         84405           839\n",
            "8          1  September        118058          1661\n",
            "9          1    October        105750          1963\n",
            "10         1   November         75731          1430\n",
            "11         1   December        131437          1184\n",
            "12         2    January        145690          1272\n",
            "13         2   February         60753          1335\n",
            "14         2      March        109323           932\n",
            "15         2      April        130658          1332\n",
            "16         2        May        123635           967\n",
            "17         2       June         75569          1259\n",
            "18         2       July        139927          1787\n",
            "19         2     August        140524          1475\n",
            "20         2  September         51643          1530\n",
            "21         2    October         56765          1196\n",
            "22         2   November         88938          1142\n",
            "23         2   December        105677          1970\n",
            "24         3    January        149409          1943\n",
            "25         3   February        110751          1376\n",
            "26         3      March        141613          1638\n",
            "27         3      April        140477           601\n",
            "28         3        May         89047          1710\n",
            "29         3       June        103330           898\n",
            "30         3       July        137700           832\n",
            "31         3     August        131615           973\n",
            "32         3  September        118432           903\n",
            "33         3    October         61349          1969\n",
            "34         3   November        121219          1499\n",
            "35         3   December        114472          1503\n"
          ]
        }
      ]
    },
    {
      "cell_type": "code",
      "source": [
        "# حفظ البيانات إلى ملف CSV\n",
        "df_sales_targets.to_csv(\"sales_targets.csv\", index=False,encoding=\"utf-8-sig\")"
      ],
      "metadata": {
        "id": "9H7CJk-p_DAq"
      },
      "execution_count": null,
      "outputs": []
    },
    {
      "cell_type": "code",
      "source": [],
      "metadata": {
        "id": "b2lBM6ll_7wF"
      },
      "execution_count": null,
      "outputs": []
    }
  ]
}