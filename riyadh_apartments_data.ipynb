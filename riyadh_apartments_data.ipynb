{
  "nbformat": 4,
  "nbformat_minor": 0,
  "metadata": {
    "colab": {
      "provenance": []
    },
    "kernelspec": {
      "name": "python3",
      "display_name": "Python 3"
    },
    "language_info": {
      "name": "python"
    }
  },
  "cells": [
    {
      "cell_type": "code",
      "execution_count": 3,
      "metadata": {
        "id": "5oEnRBIog0B0"
      },
      "outputs": [],
      "source": [
        "import pandas as pd\n",
        "import numpy as np\n",
        "import random"
      ]
    },
    {
      "cell_type": "code",
      "source": [
        "# إنشاء بيانات وهمية لأسعار الشقق في مدينة الرياض_السعودية\n",
        "\n",
        "# تحديد نطاقات أسعار المتر لكل منطقة\n",
        "price_ranges = {\n",
        "    'South': (800, 1500),\n",
        "    'West': (2000, 4000),\n",
        "    'East': (3000, 5000),\n",
        "    'North': (7000, 12000),\n",
        "    'Central':(1000,2000)\n",
        "}\n",
        "\n",
        "# بيانات ثابتة لعدد من الأحياء\n",
        "neighborhoods = {\n",
        "    'South': ['Al-Shifa', 'Al-Aziziyah', 'Badr','Al-Dar Al-Baida','Al-Mansourah','Al-Fawaz','Al-Marwah','Al-Difa','Al-Shaalan','Al-Khalidiyah','Al-Ha’ir'],\n",
        "    'West': ['Dhahret Laban', 'Al-Suwaidi', 'Ad-Diriyah','Al-Suwaidi Al-Gharbi (Western Suwaidi)','Al-Oraija','Al-Oraija Al-Gharbi (Western Oraija)','Shubra','Al-Badiyah','Sultanah','Al-Huda','Namar','Tuwaiq','Al-Mousa','Dhahiyat Laban (Laban Suburb)'],\n",
        "    'East': ['Al-Rawdah', 'Al-Naseem Al-Gharbi (Western Naseem)', 'Al-Naseem Al-Sharqi (Eastern Naseem)','Al-Sulay','Al-Quds','Al-Hamra','Granada (Ghernata)','Al-Nahda','Al-Jazirah','Ishbiliyah','Al-Rayan','Al-Ruwad','Al-Khaleej','Al-Munsiyah','Qurtubah','Al-Manar','Al-Rimal','Al-Yarmouk','Al-Shuhada'],\n",
        "    'North': ['Al-Aqiq','Al-Malqa','Al-Nakheel','Al-Nakheel Al-Gharbi (Western Nakheel)','Al-Nakheel Al-Sharqi (Eastern Nakheel)','Al-Sahafa','Hittin','Al-Yasmeen','Al-Qirawan','Al-Rabi','Al-Nada','Al-Wadi','Al-Ghadeer','Al-Aarid','Al-Falah','Al-Jameah (University District)','Al-Izdihar','Al-Maseef'],\n",
        "    'Central':['Al-Malaz','Al-Olaya','Al-Sulaimaniya','Al-Murabba','Al-Dhobat','Al-Maather','Al-Wurud','Al-Murqab','Al-Morouj','Al-Fakheriyah','Al-Batha','Al-Yamamah','Al-Jaradiyah']\n",
        "}\n",
        "\n",
        "# إنشاء بيانات وهمية\n",
        "data = []\n",
        "for _ in range(10000):  # توليد 10000 صف من البيانات\n",
        "    city = 'Riyadh'\n",
        "\n",
        "    # اختيار المنطقة عشوائيًا\n",
        "    region = random.choice(list(price_ranges.keys()))\n",
        "\n",
        "    # اختيار الحي عشوائيًا بناءً على المنطقة\n",
        "    neighborhood = random.choice(neighborhoods[region])\n",
        "\n",
        "    # توليد المساحة بشكل عشوائي (من 89 م² إلى 284 م²)\n",
        "    area = random.randint(89, 284)\n",
        "\n",
        "    # توليد عدد غرف النوم بشكل عشوائي (من 1 إلى 4 غرف)\n",
        "    bedrooms = random.randint(1, 4)\n",
        "\n",
        "    # توليد عدد دورات المياه بشكل عشوائي (من 1 إلى 4 دورات)\n",
        "    bathrooms = random.randint(1, 4)\n",
        "\n",
        "    # توليد رقم الطابق بشكل عشوائي (من 1 إلى 5 طوابق)\n",
        "    floor_number = random.randint(1, 5)\n",
        "\n",
        "    # توليد عمر العقار بشكل عشوائي (من 1 إلى 10 سنة)\n",
        "    property_age = random.randint(1, 10)\n",
        "\n",
        "    # توليد سعر المتر عشوائيًا داخل النطاق الخاص بالمنطقة\n",
        "    min_price, max_price = price_ranges[region]\n",
        "    price_per_sqm = random.uniform(min_price, max_price)\n",
        "\n",
        "    # حساب السعر النهائي\n",
        "    selling_price = round(area * price_per_sqm, 2)\n",
        "\n",
        "    #Parking Availability – هل يوجد موقف سيارة؟ (Yes/No)\n",
        "    parking_availability = random.choice(['Yes', 'No'])\n",
        "\n",
        "    #Elevator – مهم للعمائر متعددة الطوابق (Yes/No)\n",
        "    Elevator = random.choice(['Yes', 'No'])\n",
        "\n",
        "    #Furnished – مفروش أو غير مفروش\n",
        "    Furnished = random.choice(['Yes', 'No'])\n",
        "\n",
        "    #Listing Type – للبيع / للإيجار\n",
        "    Listing_Type = 'Sale'\n",
        "\n",
        "    #Property Type\n",
        "    Property_Type = 'apartment'\n",
        "\n",
        "    # إضافة الصف إلى البيانات\n",
        "    data.append([city, region, neighborhood,Property_Type, area, bedrooms, bathrooms, floor_number,Elevator, property_age,Furnished,Listing_Type, selling_price])\n",
        "\n",
        "# تحويل البيانات إلى DataFrame\n",
        "columns = ['City', 'Region', 'Neighborhood','Property Type', 'Area (sqm)', 'Bedrooms', 'Bathrooms', 'Floor Number','Elevator', 'Property Age (years)','Furnished','Listing Type', 'Selling Price (SAR)']\n",
        "df = pd.DataFrame(data, columns=columns)\n",
        "\n",
        "\n",
        "\n",
        "# عرض أول 5 صفوف من البيانات\n",
        "print(df.head())\n"
      ],
      "metadata": {
        "colab": {
          "base_uri": "https://localhost:8080/"
        },
        "id": "Lg_W5jFap7H8",
        "outputId": "bcef172a-72fc-4170-f74e-4610a062e8f9"
      },
      "execution_count": 4,
      "outputs": [
        {
          "output_type": "stream",
          "name": "stdout",
          "text": [
            "     City Region                          Neighborhood Property Type  \\\n",
            "0  Riyadh   West                                Shubra     apartment   \n",
            "1  Riyadh   West                             Al-Oraija     apartment   \n",
            "2  Riyadh   East                              Al-Sulay     apartment   \n",
            "3  Riyadh  North                            Al-Yasmeen     apartment   \n",
            "4  Riyadh   West  Al-Oraija Al-Gharbi (Western Oraija)     apartment   \n",
            "\n",
            "   Area (sqm)  Bedrooms  Bathrooms  Floor Number Elevator  \\\n",
            "0         138         4          4             4      Yes   \n",
            "1         274         4          2             2      Yes   \n",
            "2         185         1          2             3       No   \n",
            "3         272         4          2             3       No   \n",
            "4         244         2          3             5      Yes   \n",
            "\n",
            "   Property Age (years) Furnished Listing Type  Selling Price (SAR)  \n",
            "0                     8       Yes         Sale            459219.35  \n",
            "1                     8       Yes         Sale            810905.38  \n",
            "2                     9       Yes         Sale            797967.69  \n",
            "3                     6        No         Sale           2245339.91  \n",
            "4                     2        No         Sale            827890.53  \n"
          ]
        }
      ]
    },
    {
      "cell_type": "code",
      "source": [
        "# حفظ البيانات إلى ملف CSV\n",
        "df.to_csv('riyadh_apartments_data.csv', index=False)"
      ],
      "metadata": {
        "id": "cE3soZK00VNW"
      },
      "execution_count": 5,
      "outputs": []
    }
  ]
}