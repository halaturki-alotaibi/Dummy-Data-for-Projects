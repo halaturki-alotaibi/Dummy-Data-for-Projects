{
  "nbformat": 4,
  "nbformat_minor": 0,
  "metadata": {
    "colab": {
      "provenance": [],
      "authorship_tag": "ABX9TyMViAhmhUPbqQCnOVGvqjF9"
    },
    "kernelspec": {
      "name": "python3",
      "display_name": "Python 3"
    },
    "language_info": {
      "name": "python"
    }
  },
  "cells": [
    {
      "cell_type": "code",
      "execution_count": 1,
      "metadata": {
        "id": "Yd0YiPBr-xN0"
      },
      "outputs": [],
      "source": [
        "import pandas as pd\n",
        "import numpy as np"
      ]
    },
    {
      "cell_type": "code",
      "source": [
        "# إنشاء بيانات وهمية للمشروع الرابع (تحليل اتجاهات السوق بناءً على بيانات مستخرجة)\n",
        "products = [f\"Product_{i}\" for i in range(1, 101)]\n",
        "prices = np.random.uniform(10, 1000, 100)\n",
        "ratings = np.random.uniform(1, 5, 100)\n",
        "reviews_count = np.random.randint(0, 500, 100)\n",
        "# Define the 'categories' variable before using it\n",
        "categories = [\"Electronics\", \"Clothing\", \"Books\", \"Home & Kitchen\", \"Beauty\"]  # Example categories\n",
        "category = np.random.choice(categories, 100)\n",
        "\n",
        "df_project4 = pd.DataFrame({\n",
        "    \"Product_Name\": products,\n",
        "    \"Category\": category,\n",
        "    \"Price\": prices,\n",
        "    \"Rating\": ratings,\n",
        "    \"Reviews_Count\": reviews_count\n",
        "})\n",
        "\n"
      ],
      "metadata": {
        "id": "okA6TsWf-0wZ"
      },
      "execution_count": 6,
      "outputs": []
    },
    {
      "cell_type": "code",
      "source": [
        "# حفظ البيانات\n",
        "df_project4.to_csv(r\"/DatasetForProject4.csv\", index=False)\n",
        "\n",
        "# إرجاع المسارات للتحميل\n",
        "[\"/data/DatasetForProject4.csv\"]\n"
      ],
      "metadata": {
        "colab": {
          "base_uri": "https://localhost:8080/"
        },
        "id": "3hpb7vGJ_zkt",
        "outputId": "d2796da2-e615-47bd-834a-79c279ecc829"
      },
      "execution_count": 7,
      "outputs": [
        {
          "output_type": "execute_result",
          "data": {
            "text/plain": [
              "['/data/DatasetForProject4.csv']"
            ]
          },
          "metadata": {},
          "execution_count": 7
        }
      ]
    }
  ]
}